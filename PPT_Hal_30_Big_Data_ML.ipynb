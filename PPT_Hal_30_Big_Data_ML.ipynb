{
  "nbformat": 4,
  "nbformat_minor": 0,
  "metadata": {
    "colab": {
      "provenance": []
    },
    "kernelspec": {
      "name": "python3",
      "display_name": "Python 3"
    },
    "language_info": {
      "name": "python"
    }
  },
  "cells": [
    {
      "cell_type": "code",
      "execution_count": 1,
      "metadata": {
        "colab": {
          "base_uri": "https://localhost:8080/"
        },
        "id": "mR5nulDNShHF",
        "outputId": "6ef71f74-7f5c-42fa-eb9e-32674181de2d"
      },
      "outputs": [
        {
          "output_type": "stream",
          "name": "stdout",
          "text": [
            "Mounted at /content/drive\n"
          ]
        }
      ],
      "source": [
        "from google.colab import drive\n",
        "drive.mount('/content/drive')"
      ]
    },
    {
      "cell_type": "code",
      "source": [
        "# install pyspark\n",
        "!pip install pyspark"
      ],
      "metadata": {
        "colab": {
          "base_uri": "https://localhost:8080/"
        },
        "id": "sDgZ25ALSlZy",
        "outputId": "71c01d0c-e7b1-407e-9e6e-d6a9f636c183"
      },
      "execution_count": 2,
      "outputs": [
        {
          "output_type": "stream",
          "name": "stdout",
          "text": [
            "Looking in indexes: https://pypi.org/simple, https://us-python.pkg.dev/colab-wheels/public/simple/\n",
            "Collecting pyspark\n",
            "  Downloading pyspark-3.4.0.tar.gz (310.8 MB)\n",
            "\u001b[2K     \u001b[90m━━━━━━━━━━━━━━━━━━━━━━━━━━━━━━━━━━━━━━━\u001b[0m \u001b[32m310.8/310.8 MB\u001b[0m \u001b[31m1.5 MB/s\u001b[0m eta \u001b[36m0:00:00\u001b[0m\n",
            "\u001b[?25h  Preparing metadata (setup.py) ... \u001b[?25l\u001b[?25hdone\n",
            "Requirement already satisfied: py4j==0.10.9.7 in /usr/local/lib/python3.10/dist-packages (from pyspark) (0.10.9.7)\n",
            "Building wheels for collected packages: pyspark\n",
            "  Building wheel for pyspark (setup.py) ... \u001b[?25l\u001b[?25hdone\n",
            "  Created wheel for pyspark: filename=pyspark-3.4.0-py2.py3-none-any.whl size=311317130 sha256=b8801b1326f9f8cd924c1178d09d114acee5222f62cc5bb5952187d6694102f8\n",
            "  Stored in directory: /root/.cache/pip/wheels/7b/1b/4b/3363a1d04368e7ff0d408e57ff57966fcdf00583774e761327\n",
            "Successfully built pyspark\n",
            "Installing collected packages: pyspark\n",
            "Successfully installed pyspark-3.4.0\n"
          ]
        }
      ]
    },
    {
      "cell_type": "code",
      "source": [
        "import pyspark\n",
        "from pyspark.sql import SparkSession, SQLContext"
      ],
      "metadata": {
        "id": "ZdYJ_uUUSwOL"
      },
      "execution_count": 3,
      "outputs": []
    },
    {
      "cell_type": "code",
      "source": [
        "spark = SparkSession.builder.appName('Movie Recommendation').getOrCreate()"
      ],
      "metadata": {
        "id": "G7rd6AFhS7Wi"
      },
      "execution_count": 4,
      "outputs": []
    },
    {
      "cell_type": "code",
      "source": [
        "from pyspark.ml.evaluation import RegressionEvaluator\n",
        "from pyspark.ml.recommendation import ALS\n",
        "from pyspark.sql import Row\n",
        "\n",
        "lines = spark.read.text(\"/content/ratings.dat\").rdd\n",
        "parts = lines.map(lambda row: row.value.split(\"::\"))\n",
        "ratingsRDD = parts.map(lambda p: Row(userId=int(p[0]), movieId=int(p[1]),\n",
        "                                     rating=int(p[2]), timestamp=int(p[3])))"
      ],
      "metadata": {
        "id": "l-XeAPmLS831"
      },
      "execution_count": 7,
      "outputs": []
    },
    {
      "cell_type": "code",
      "source": [
        "ratings = spark.createDataFrame(ratingsRDD)\n",
        "(training, test) = ratings.randomSplit([0.8, 0.2])\n",
        "\n",
        "# Build the recommendation model using ALS on the training data\n",
        "# Note we set cold start strategy to 'drop' to ensure we don't get NaN evaluation metrics\n",
        "als = ALS(maxIter=5, regParam=0.01, userCol=\"userId\", itemCol=\"movieId\", ratingCol=\"rating\")\n",
        "model = als.fit(training)\n",
        "\n",
        "# Evaluate the model by computing the RMSE on the test data\n",
        "predictions = model.transform(test)\n",
        "predictions.show()\n",
        "\n",
        "import math\n",
        "result = predictions.rdd.map(lambda row: row['prediction'] - row['rating']).map(lambda x: x*x).filter(lambda x: not math.isnan(x))\n",
        "mse = result.reduce(lambda x,y: x+y)"
      ],
      "metadata": {
        "colab": {
          "base_uri": "https://localhost:8080/"
        },
        "id": "Z92K4Yw3TCeJ",
        "outputId": "afa4a59d-c5ee-43d8-eb52-e24a3e9ede70"
      },
      "execution_count": 8,
      "outputs": [
        {
          "output_type": "stream",
          "name": "stdout",
          "text": [
            "+------+-------+------+---------+----------+\n",
            "|userId|movieId|rating|timestamp|prediction|\n",
            "+------+-------+------+---------+----------+\n",
            "|     1|    260|     4|978300760| 4.2940583|\n",
            "|     1|    588|     4|978824268| 4.0924025|\n",
            "|     1|    594|     4|978302268|  4.315671|\n",
            "|     1|    745|     3|978824268|  4.079152|\n",
            "|     1|    914|     3|978301968|  4.632781|\n",
            "|     1|    938|     4|978301752|  4.889193|\n",
            "|     1|   1246|     4|978302091| 4.7879314|\n",
            "|     1|   1907|     4|978824330| 4.7883625|\n",
            "|     1|   2791|     4|978302188| 3.1937318|\n",
            "|     1|   2918|     4|978302124|  4.152903|\n",
            "|     1|   3186|     4|978300019|   4.19529|\n",
            "|     2|    163|     4|978299809| 2.6491513|\n",
            "|     2|    235|     3|978299351| 2.4286256|\n",
            "|     2|    265|     4|978299026| 3.9984334|\n",
            "|     2|    442|     3|978300025| 2.9161165|\n",
            "|     2|    457|     4|978299773|  4.170656|\n",
            "|     2|    593|     5|978298517| 4.1588864|\n",
            "|     2|    902|     2|978298905| 4.4323697|\n",
            "|     2|   1090|     2|978298580| 4.1181197|\n",
            "|     2|   1103|     3|978298905|  3.661233|\n",
            "+------+-------+------+---------+----------+\n",
            "only showing top 20 rows\n",
            "\n"
          ]
        }
      ]
    },
    {
      "cell_type": "code",
      "source": [],
      "metadata": {
        "id": "qEDelcaEUkdJ"
      },
      "execution_count": null,
      "outputs": []
    }
  ]
}